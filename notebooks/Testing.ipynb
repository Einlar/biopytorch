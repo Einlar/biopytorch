{
    "cells": [
        {
            "cell_type": "code",
            "execution_count": 4,
            "source": [
                "import torch\n",
                "import torch.nn as nn\n",
                "from biopytorch import BioConv2d, BioLinear\n",
                "from torchsummaryX import summary\n",
                "import pandas as pd\n",
                "import numpy as np"
            ],
            "outputs": [],
            "metadata": {}
        },
        {
            "cell_type": "code",
            "execution_count": 3,
            "source": [
                "from data import CIFAR10DataModule\n",
                "\n",
                "cifar10 = CIFAR10DataModule(batch_size=64)\n",
                "cifar10.setup()"
            ],
            "outputs": [
                {
                    "output_type": "stream",
                    "name": "stdout",
                    "text": [
                        "Files already downloaded and verified\n",
                        "Files already downloaded and verified\n"
                    ]
                }
            ],
            "metadata": {}
        },
        {
            "cell_type": "code",
            "execution_count": 5,
            "source": [
                "from tqdm.notebook import tqdm\n",
                "\n",
                "def test_model(model, dataloader) -> float:\n",
                "    \"\"\"\n",
                "    Evaluate the accuracy of `model` on the dataset given by `dataloader`\n",
                "    \"\"\"\n",
                "    \n",
                "    model.eval()\n",
                "    \n",
                "    test_acc = 0.\n",
                "    with torch.no_grad():\n",
                "        for x, y in tqdm(dataloader):\n",
                "            x, y = x.to(\"cuda\"), y.to(\"cuda\")\n",
                "            \n",
                "            out = model(x)\n",
                "            acc = (y == out.argmax(1)).sum().item() / out.size(0)\n",
                "            \n",
                "            test_acc += acc\n",
                "            \n",
                "    return test_acc / len(dataloader)"
            ],
            "outputs": [],
            "metadata": {}
        },
        {
            "cell_type": "code",
            "execution_count": 14,
            "source": [
                "def retrieve_stats(model) -> pd.DataFrame:\n",
                "    \"\"\"\n",
                "    Retrieve the main hyperparameters of `model`, and measure its val/test accuracy on CIFAR-10.\n",
                "    \"\"\"\n",
                "    \n",
                "    bioconv_layers = [layer for layer in model.modules() if isinstance(layer, BioConv2d)]\n",
                "    biolinear_layers = [layer for layer in model.modules() if isinstance(layer, BioLinear)]\n",
                "\n",
                "    delta = [layer.delta for layer in bioconv_layers][0]\n",
                "    p = [layer.lebesgue_p for layer in bioconv_layers][0]\n",
                "    k = [layer.ranking_param for layer in bioconv_layers][0]\n",
                "\n",
                "    dropout = [layer.p for layer in model.modules() if isinstance(layer, nn.Dropout)][0]\n",
                "    \n",
                "    val_acc = test_model(model, cifar10.val_dataloader())\n",
                "    test_acc = test_model(model, cifar10.test_dataloader())\n",
                "    \n",
                "    #Compute total number of learnable parameters (both by Krotov learning rule or SGD)\n",
                "    conv_params = np.sum([np.prod(layer.weight.shape) for layer in bioconv_layers])  #They do not support bias, so no need to add it\n",
                "    lin_params  = np.sum([np.prod(layer.weight.shape) for layer in biolinear_layers])\n",
                "    \n",
                "    try:\n",
                "        lin_params += np.sum([np.prod(layer.bias.shape) for layer in biolinear_layers])\n",
                "    except AttributeError:\n",
                "        lin_params += 0 #No bias parameter\n",
                "            \n",
                "    model_summary = summary(model, torch.rand((128, 3, 32, 32), device=\"cuda\")) #This counts only the final SGD layer\n",
                "    sgd_params = model_summary['Params'].dropna().sum()\n",
                "    \n",
                "    total_params = conv_params + lin_params + sgd_params\n",
                "\n",
                "    return pd.Series(data=[val_acc * 100, test_acc * 100, p, k, delta, dropout, total_params], index=['val_acc', 'test_acc', 'p', 'k', 'Delta', 'dropout', 'n_params'])"
            ],
            "outputs": [],
            "metadata": {}
        },
        {
            "cell_type": "code",
            "execution_count": 15,
            "source": [
                "#Load checkpoints \n",
                "checkpoints = [torch.load(f\"SavedModels/layers{i+1}.pt\") for i in range(5)]\n",
                "stats       = [retrieve_stats(checkpoint) for checkpoint in checkpoints]"
            ],
            "outputs": [
                {
                    "output_type": "display_data",
                    "data": {
                        "text/plain": [
                            "  0%|          | 0/157 [00:00<?, ?it/s]"
                        ],
                        "application/vnd.jupyter.widget-view+json": {
                            "version_major": 2,
                            "version_minor": 0,
                            "model_id": "b87a6243267a41c3998dc859cbb9bc04"
                        }
                    },
                    "metadata": {}
                },
                {
                    "output_type": "display_data",
                    "data": {
                        "text/plain": [
                            "  0%|          | 0/157 [00:00<?, ?it/s]"
                        ],
                        "application/vnd.jupyter.widget-view+json": {
                            "version_major": 2,
                            "version_minor": 0,
                            "model_id": "bfab2919cfd54b86ba06fa2c645f3a03"
                        }
                    },
                    "metadata": {}
                },
                {
                    "output_type": "stream",
                    "name": "stdout",
                    "text": [
                        "=================================================================================\n",
                        "                             Kernel Shape       Output Shape   Params  \\\n",
                        "Layer                                                                   \n",
                        "0_0.0.BatchNorm2d_batch_norm            -   [128, 3, 32, 32]        -   \n",
                        "1_0.ReLU_1                              -  [128, 96, 28, 28]        -   \n",
                        "2_0.MaxPool2d_2                         -  [128, 96, 14, 14]        -   \n",
                        "3_0.BatchNorm2d_3                       -  [128, 96, 14, 14]        -   \n",
                        "4_1                                     -       [128, 18816]        -   \n",
                        "5_2                                     -       [128, 18816]        -   \n",
                        "6_3                           [18816, 10]          [128, 10]  188.17k   \n",
                        "\n",
                        "                             Mult-Adds  \n",
                        "Layer                                   \n",
                        "0_0.0.BatchNorm2d_batch_norm         -  \n",
                        "1_0.ReLU_1                           -  \n",
                        "2_0.MaxPool2d_2                      -  \n",
                        "3_0.BatchNorm2d_3                    -  \n",
                        "4_1                                  -  \n",
                        "5_2                                  -  \n",
                        "6_3                            188.16k  \n",
                        "---------------------------------------------------------------------------------\n",
                        "                       Totals\n",
                        "Total params          188.17k\n",
                        "Trainable params      188.17k\n",
                        "Non-trainable params      0.0\n",
                        "Mult-Adds             188.16k\n",
                        "=================================================================================\n"
                    ]
                },
                {
                    "output_type": "display_data",
                    "data": {
                        "text/plain": [
                            "  0%|          | 0/157 [00:00<?, ?it/s]"
                        ],
                        "application/vnd.jupyter.widget-view+json": {
                            "version_major": 2,
                            "version_minor": 0,
                            "model_id": "edb6d7cf9c5e4735a281e38af4b469af"
                        }
                    },
                    "metadata": {}
                },
                {
                    "output_type": "display_data",
                    "data": {
                        "text/plain": [
                            "  0%|          | 0/157 [00:00<?, ?it/s]"
                        ],
                        "application/vnd.jupyter.widget-view+json": {
                            "version_major": 2,
                            "version_minor": 0,
                            "model_id": "12a8e9420b5444768aaecd5d0051a648"
                        }
                    },
                    "metadata": {}
                },
                {
                    "output_type": "stream",
                    "name": "stdout",
                    "text": [
                        "====================================================================================\n",
                        "                               Kernel Shape        Output Shape   Params  \\\n",
                        "Layer                                                                      \n",
                        "0_0.0.0.BatchNorm2d_batch_norm            -    [128, 3, 32, 32]        -   \n",
                        "1_0.0.ReLU_1                              -   [128, 96, 28, 28]        -   \n",
                        "2_0.0.MaxPool2d_2                         -   [128, 96, 14, 14]        -   \n",
                        "3_0.1.0.BatchNorm2d_batch_norm            -   [128, 96, 14, 14]        -   \n",
                        "4_0.1.ReLU_1                              -  [128, 128, 12, 12]        -   \n",
                        "5_1                                       -  [128, 128, 12, 12]        -   \n",
                        "6_2                                       -        [128, 18432]        -   \n",
                        "7_3                                       -        [128, 18432]        -   \n",
                        "8_4                             [18432, 10]           [128, 10]  184.33k   \n",
                        "\n",
                        "                               Mult-Adds  \n",
                        "Layer                                     \n",
                        "0_0.0.0.BatchNorm2d_batch_norm         -  \n",
                        "1_0.0.ReLU_1                           -  \n",
                        "2_0.0.MaxPool2d_2                      -  \n",
                        "3_0.1.0.BatchNorm2d_batch_norm         -  \n",
                        "4_0.1.ReLU_1                           -  \n",
                        "5_1                                    -  \n",
                        "6_2                                    -  \n",
                        "7_3                                    -  \n",
                        "8_4                              184.32k  \n",
                        "------------------------------------------------------------------------------------\n",
                        "                       Totals\n",
                        "Total params          184.33k\n",
                        "Trainable params      184.33k\n",
                        "Non-trainable params      0.0\n",
                        "Mult-Adds             184.32k\n",
                        "====================================================================================\n"
                    ]
                },
                {
                    "output_type": "display_data",
                    "data": {
                        "text/plain": [
                            "  0%|          | 0/157 [00:00<?, ?it/s]"
                        ],
                        "application/vnd.jupyter.widget-view+json": {
                            "version_major": 2,
                            "version_minor": 0,
                            "model_id": "9fa14f27bebb4e42ab18841a1071d89d"
                        }
                    },
                    "metadata": {}
                },
                {
                    "output_type": "display_data",
                    "data": {
                        "text/plain": [
                            "  0%|          | 0/157 [00:00<?, ?it/s]"
                        ],
                        "application/vnd.jupyter.widget-view+json": {
                            "version_major": 2,
                            "version_minor": 0,
                            "model_id": "9ca70ff6362f484ba7705112db944d94"
                        }
                    },
                    "metadata": {}
                },
                {
                    "output_type": "stream",
                    "name": "stdout",
                    "text": [
                        "===================================================================================\n",
                        "                               Kernel Shape        Output Shape  Params  \\\n",
                        "Layer                                                                     \n",
                        "0_0.0.0.BatchNorm2d_batch_norm            -    [128, 3, 32, 32]       -   \n",
                        "1_0.0.ReLU_1                              -   [128, 96, 28, 28]       -   \n",
                        "2_0.0.MaxPool2d_2                         -   [128, 96, 14, 14]       -   \n",
                        "3_0.1.0.BatchNorm2d_batch_norm            -   [128, 96, 14, 14]       -   \n",
                        "4_0.1.ReLU_1                              -  [128, 128, 12, 12]       -   \n",
                        "5_0.2.0.BatchNorm2d_batch_norm            -  [128, 128, 12, 12]       -   \n",
                        "6_0.2.ReLU_1                              -  [128, 192, 10, 10]       -   \n",
                        "7_0.2.MaxPool2d_2                         -    [128, 192, 5, 5]       -   \n",
                        "8_1                                       -    [128, 192, 5, 5]       -   \n",
                        "9_2                                       -         [128, 4800]       -   \n",
                        "10_3                                      -         [128, 4800]       -   \n",
                        "11_4                             [4800, 10]           [128, 10]  48.01k   \n",
                        "\n",
                        "                               Mult-Adds  \n",
                        "Layer                                     \n",
                        "0_0.0.0.BatchNorm2d_batch_norm         -  \n",
                        "1_0.0.ReLU_1                           -  \n",
                        "2_0.0.MaxPool2d_2                      -  \n",
                        "3_0.1.0.BatchNorm2d_batch_norm         -  \n",
                        "4_0.1.ReLU_1                           -  \n",
                        "5_0.2.0.BatchNorm2d_batch_norm         -  \n",
                        "6_0.2.ReLU_1                           -  \n",
                        "7_0.2.MaxPool2d_2                      -  \n",
                        "8_1                                    -  \n",
                        "9_2                                    -  \n",
                        "10_3                                   -  \n",
                        "11_4                               48.0k  \n",
                        "-----------------------------------------------------------------------------------\n",
                        "                      Totals\n",
                        "Total params          48.01k\n",
                        "Trainable params      48.01k\n",
                        "Non-trainable params     0.0\n",
                        "Mult-Adds              48.0k\n",
                        "===================================================================================\n"
                    ]
                },
                {
                    "output_type": "display_data",
                    "data": {
                        "text/plain": [
                            "  0%|          | 0/157 [00:00<?, ?it/s]"
                        ],
                        "application/vnd.jupyter.widget-view+json": {
                            "version_major": 2,
                            "version_minor": 0,
                            "model_id": "5308b75580d34aa1a20e47779954f69b"
                        }
                    },
                    "metadata": {}
                },
                {
                    "output_type": "display_data",
                    "data": {
                        "text/plain": [
                            "  0%|          | 0/157 [00:00<?, ?it/s]"
                        ],
                        "application/vnd.jupyter.widget-view+json": {
                            "version_major": 2,
                            "version_minor": 0,
                            "model_id": "3a1ed06fdac14b1fbe7b8df467c4721c"
                        }
                    },
                    "metadata": {}
                },
                {
                    "output_type": "stream",
                    "name": "stdout",
                    "text": [
                        "===================================================================================\n",
                        "                               Kernel Shape        Output Shape  Params  \\\n",
                        "Layer                                                                     \n",
                        "0_0.0.0.BatchNorm2d_batch_norm            -    [128, 3, 32, 32]       -   \n",
                        "1_0.0.ReLU_1                              -   [128, 96, 28, 28]       -   \n",
                        "2_0.0.MaxPool2d_2                         -   [128, 96, 14, 14]       -   \n",
                        "3_0.1.0.BatchNorm2d_batch_norm            -   [128, 96, 14, 14]       -   \n",
                        "4_0.1.ReLU_1                              -  [128, 128, 12, 12]       -   \n",
                        "5_0.2.0.BatchNorm2d_batch_norm            -  [128, 128, 12, 12]       -   \n",
                        "6_0.2.ReLU_1                              -  [128, 192, 10, 10]       -   \n",
                        "7_0.2.MaxPool2d_2                         -    [128, 192, 5, 5]       -   \n",
                        "8_0.3.0.BatchNorm2d_batch_norm            -    [128, 192, 5, 5]       -   \n",
                        "9_0.3.ReLU_1                              -    [128, 256, 3, 3]       -   \n",
                        "10_1                                      -    [128, 256, 3, 3]       -   \n",
                        "11_2                                      -         [128, 2304]       -   \n",
                        "12_3                                      -         [128, 2304]       -   \n",
                        "13_4                             [2304, 10]           [128, 10]  23.05k   \n",
                        "\n",
                        "                               Mult-Adds  \n",
                        "Layer                                     \n",
                        "0_0.0.0.BatchNorm2d_batch_norm         -  \n",
                        "1_0.0.ReLU_1                           -  \n",
                        "2_0.0.MaxPool2d_2                      -  \n",
                        "3_0.1.0.BatchNorm2d_batch_norm         -  \n",
                        "4_0.1.ReLU_1                           -  \n",
                        "5_0.2.0.BatchNorm2d_batch_norm         -  \n",
                        "6_0.2.ReLU_1                           -  \n",
                        "7_0.2.MaxPool2d_2                      -  \n",
                        "8_0.3.0.BatchNorm2d_batch_norm         -  \n",
                        "9_0.3.ReLU_1                           -  \n",
                        "10_1                                   -  \n",
                        "11_2                                   -  \n",
                        "12_3                                   -  \n",
                        "13_4                              23.04k  \n",
                        "-----------------------------------------------------------------------------------\n",
                        "                      Totals\n",
                        "Total params          23.05k\n",
                        "Trainable params      23.05k\n",
                        "Non-trainable params     0.0\n",
                        "Mult-Adds             23.04k\n",
                        "===================================================================================\n"
                    ]
                },
                {
                    "output_type": "display_data",
                    "data": {
                        "text/plain": [
                            "  0%|          | 0/157 [00:00<?, ?it/s]"
                        ],
                        "application/vnd.jupyter.widget-view+json": {
                            "version_major": 2,
                            "version_minor": 0,
                            "model_id": "11bac9224c0340299bc25f0cc6f34a67"
                        }
                    },
                    "metadata": {}
                },
                {
                    "output_type": "display_data",
                    "data": {
                        "text/plain": [
                            "  0%|          | 0/157 [00:00<?, ?it/s]"
                        ],
                        "application/vnd.jupyter.widget-view+json": {
                            "version_major": 2,
                            "version_minor": 0,
                            "model_id": "55739668e2d1439a812fce79993b2692"
                        }
                    },
                    "metadata": {}
                },
                {
                    "output_type": "stream",
                    "name": "stdout",
                    "text": [
                        "===================================================================================\n",
                        "                                Kernel Shape        Output Shape Params  \\\n",
                        "Layer                                                                     \n",
                        "0_0.0.0.BatchNorm2d_batch_norm             -    [128, 3, 32, 32]      -   \n",
                        "1_0.0.ReLU_1                               -   [128, 96, 28, 28]      -   \n",
                        "2_0.0.MaxPool2d_2                          -   [128, 96, 14, 14]      -   \n",
                        "3_0.1.0.BatchNorm2d_batch_norm             -   [128, 96, 14, 14]      -   \n",
                        "4_0.1.ReLU_1                               -  [128, 128, 12, 12]      -   \n",
                        "5_0.2.0.BatchNorm2d_batch_norm             -  [128, 128, 12, 12]      -   \n",
                        "6_0.2.ReLU_1                               -  [128, 192, 10, 10]      -   \n",
                        "7_0.2.MaxPool2d_2                          -    [128, 192, 5, 5]      -   \n",
                        "8_0.3.0.BatchNorm2d_batch_norm             -    [128, 192, 5, 5]      -   \n",
                        "9_0.3.ReLU_1                               -    [128, 256, 3, 3]      -   \n",
                        "10_0.4.0.BatchNorm1d_batch_norm            -         [128, 2304]      -   \n",
                        "11_0.4.ReLU_1                              -          [128, 300]      -   \n",
                        "12_1                                       -          [128, 300]      -   \n",
                        "13_2                                       -          [128, 300]      -   \n",
                        "14_3                               [300, 10]           [128, 10]  3.01k   \n",
                        "\n",
                        "                                Mult-Adds  \n",
                        "Layer                                      \n",
                        "0_0.0.0.BatchNorm2d_batch_norm          -  \n",
                        "1_0.0.ReLU_1                            -  \n",
                        "2_0.0.MaxPool2d_2                       -  \n",
                        "3_0.1.0.BatchNorm2d_batch_norm          -  \n",
                        "4_0.1.ReLU_1                            -  \n",
                        "5_0.2.0.BatchNorm2d_batch_norm          -  \n",
                        "6_0.2.ReLU_1                            -  \n",
                        "7_0.2.MaxPool2d_2                       -  \n",
                        "8_0.3.0.BatchNorm2d_batch_norm          -  \n",
                        "9_0.3.ReLU_1                            -  \n",
                        "10_0.4.0.BatchNorm1d_batch_norm         -  \n",
                        "11_0.4.ReLU_1                           -  \n",
                        "12_1                                    -  \n",
                        "13_2                                    -  \n",
                        "14_3                                 3.0k  \n",
                        "-----------------------------------------------------------------------------------\n",
                        "                      Totals\n",
                        "Total params           3.01k\n",
                        "Trainable params       3.01k\n",
                        "Non-trainable params     0.0\n",
                        "Mult-Adds               3.0k\n",
                        "===================================================================================\n"
                    ]
                }
            ],
            "metadata": {}
        },
        {
            "cell_type": "code",
            "execution_count": 20,
            "source": [
                "#Retrieve also BioLinear hyperparams\n",
                "biolinear_layer = [layer for layer in checkpoints[-1].modules() if isinstance(layer, BioLinear)][0]\n",
                "print(f\"p: {biolinear_layer.lebesgue_p}, k: {biolinear_layer.ranking_param}, Delta: {biolinear_layer.delta}\")\n"
            ],
            "outputs": [
                {
                    "output_type": "stream",
                    "name": "stdout",
                    "text": [
                        "p: 8, k: 2, Delta: 0.335\n"
                    ]
                }
            ],
            "metadata": {}
        },
        {
            "cell_type": "code",
            "execution_count": 16,
            "source": [
                "#Gather all the stats\n",
                "df = pd.DataFrame({i+1: stats[i] for i in range(5)})\n",
                "df"
            ],
            "outputs": [
                {
                    "output_type": "execute_result",
                    "data": {
                        "text/plain": [
                            "                      1              2              3              4  \\\n",
                            "val_acc       69.197850      67.127787      64.908439      59.832803   \n",
                            "test_acc      67.058121      65.226911      63.077229      58.857484   \n",
                            "p              2.000000       8.000000       8.000000       8.000000   \n",
                            "k              9.000000       3.000000       5.000000       7.000000   \n",
                            "Delta          0.080000       0.340000       0.250000       0.235000   \n",
                            "dropout        0.200000       0.250000       0.050000       0.100000   \n",
                            "n_params  195370.000000  302122.000000  386986.000000  804394.000000   \n",
                            "\n",
                            "                     5  \n",
                            "val_acc   4.624801e+01  \n",
                            "test_acc  4.545183e+01  \n",
                            "p         8.000000e+00  \n",
                            "k         2.000000e+00  \n",
                            "Delta     3.350000e-01  \n",
                            "dropout   1.000000e-01  \n",
                            "n_params  1.475554e+06  "
                        ],
                        "text/html": [
                            "<div>\n",
                            "<style scoped>\n",
                            "    .dataframe tbody tr th:only-of-type {\n",
                            "        vertical-align: middle;\n",
                            "    }\n",
                            "\n",
                            "    .dataframe tbody tr th {\n",
                            "        vertical-align: top;\n",
                            "    }\n",
                            "\n",
                            "    .dataframe thead th {\n",
                            "        text-align: right;\n",
                            "    }\n",
                            "</style>\n",
                            "<table border=\"1\" class=\"dataframe\">\n",
                            "  <thead>\n",
                            "    <tr style=\"text-align: right;\">\n",
                            "      <th></th>\n",
                            "      <th>1</th>\n",
                            "      <th>2</th>\n",
                            "      <th>3</th>\n",
                            "      <th>4</th>\n",
                            "      <th>5</th>\n",
                            "    </tr>\n",
                            "  </thead>\n",
                            "  <tbody>\n",
                            "    <tr>\n",
                            "      <th>val_acc</th>\n",
                            "      <td>69.197850</td>\n",
                            "      <td>67.127787</td>\n",
                            "      <td>64.908439</td>\n",
                            "      <td>59.832803</td>\n",
                            "      <td>4.624801e+01</td>\n",
                            "    </tr>\n",
                            "    <tr>\n",
                            "      <th>test_acc</th>\n",
                            "      <td>67.058121</td>\n",
                            "      <td>65.226911</td>\n",
                            "      <td>63.077229</td>\n",
                            "      <td>58.857484</td>\n",
                            "      <td>4.545183e+01</td>\n",
                            "    </tr>\n",
                            "    <tr>\n",
                            "      <th>p</th>\n",
                            "      <td>2.000000</td>\n",
                            "      <td>8.000000</td>\n",
                            "      <td>8.000000</td>\n",
                            "      <td>8.000000</td>\n",
                            "      <td>8.000000e+00</td>\n",
                            "    </tr>\n",
                            "    <tr>\n",
                            "      <th>k</th>\n",
                            "      <td>9.000000</td>\n",
                            "      <td>3.000000</td>\n",
                            "      <td>5.000000</td>\n",
                            "      <td>7.000000</td>\n",
                            "      <td>2.000000e+00</td>\n",
                            "    </tr>\n",
                            "    <tr>\n",
                            "      <th>Delta</th>\n",
                            "      <td>0.080000</td>\n",
                            "      <td>0.340000</td>\n",
                            "      <td>0.250000</td>\n",
                            "      <td>0.235000</td>\n",
                            "      <td>3.350000e-01</td>\n",
                            "    </tr>\n",
                            "    <tr>\n",
                            "      <th>dropout</th>\n",
                            "      <td>0.200000</td>\n",
                            "      <td>0.250000</td>\n",
                            "      <td>0.050000</td>\n",
                            "      <td>0.100000</td>\n",
                            "      <td>1.000000e-01</td>\n",
                            "    </tr>\n",
                            "    <tr>\n",
                            "      <th>n_params</th>\n",
                            "      <td>195370.000000</td>\n",
                            "      <td>302122.000000</td>\n",
                            "      <td>386986.000000</td>\n",
                            "      <td>804394.000000</td>\n",
                            "      <td>1.475554e+06</td>\n",
                            "    </tr>\n",
                            "  </tbody>\n",
                            "</table>\n",
                            "</div>"
                        ]
                    },
                    "metadata": {},
                    "execution_count": 16
                }
            ],
            "metadata": {}
        },
        {
            "cell_type": "markdown",
            "source": [
                "## Comparison"
            ],
            "metadata": {}
        },
        {
            "cell_type": "code",
            "execution_count": 17,
            "source": [
                "#Benchmark of Hebbian Conv layers on CIFAR-10, taken from Amato et al., \"Hebbian Learning Meets Deep Convolutional Neural Networks\", 2019\n",
                "hebbian_paper = pd.DataFrame({\n",
                "    1: 63.92,\n",
                "    2: 63.81,\n",
                "    3: 58.28,\n",
                "    4: 52.99,\n",
                "    5: 41.78}, index=['test_ref'])\n",
                "\n",
                "df = df.append(hebbian_paper)\n",
                "df"
            ],
            "outputs": [
                {
                    "output_type": "execute_result",
                    "data": {
                        "text/plain": [
                            "                      1              2              3              4  \\\n",
                            "val_acc       69.197850      67.127787      64.908439      59.832803   \n",
                            "test_acc      67.058121      65.226911      63.077229      58.857484   \n",
                            "p              2.000000       8.000000       8.000000       8.000000   \n",
                            "k              9.000000       3.000000       5.000000       7.000000   \n",
                            "Delta          0.080000       0.340000       0.250000       0.235000   \n",
                            "dropout        0.200000       0.250000       0.050000       0.100000   \n",
                            "n_params  195370.000000  302122.000000  386986.000000  804394.000000   \n",
                            "test_ref      63.920000      63.810000      58.280000      52.990000   \n",
                            "\n",
                            "                     5  \n",
                            "val_acc   4.624801e+01  \n",
                            "test_acc  4.545183e+01  \n",
                            "p         8.000000e+00  \n",
                            "k         2.000000e+00  \n",
                            "Delta     3.350000e-01  \n",
                            "dropout   1.000000e-01  \n",
                            "n_params  1.475554e+06  \n",
                            "test_ref  4.178000e+01  "
                        ],
                        "text/html": [
                            "<div>\n",
                            "<style scoped>\n",
                            "    .dataframe tbody tr th:only-of-type {\n",
                            "        vertical-align: middle;\n",
                            "    }\n",
                            "\n",
                            "    .dataframe tbody tr th {\n",
                            "        vertical-align: top;\n",
                            "    }\n",
                            "\n",
                            "    .dataframe thead th {\n",
                            "        text-align: right;\n",
                            "    }\n",
                            "</style>\n",
                            "<table border=\"1\" class=\"dataframe\">\n",
                            "  <thead>\n",
                            "    <tr style=\"text-align: right;\">\n",
                            "      <th></th>\n",
                            "      <th>1</th>\n",
                            "      <th>2</th>\n",
                            "      <th>3</th>\n",
                            "      <th>4</th>\n",
                            "      <th>5</th>\n",
                            "    </tr>\n",
                            "  </thead>\n",
                            "  <tbody>\n",
                            "    <tr>\n",
                            "      <th>val_acc</th>\n",
                            "      <td>69.197850</td>\n",
                            "      <td>67.127787</td>\n",
                            "      <td>64.908439</td>\n",
                            "      <td>59.832803</td>\n",
                            "      <td>4.624801e+01</td>\n",
                            "    </tr>\n",
                            "    <tr>\n",
                            "      <th>test_acc</th>\n",
                            "      <td>67.058121</td>\n",
                            "      <td>65.226911</td>\n",
                            "      <td>63.077229</td>\n",
                            "      <td>58.857484</td>\n",
                            "      <td>4.545183e+01</td>\n",
                            "    </tr>\n",
                            "    <tr>\n",
                            "      <th>p</th>\n",
                            "      <td>2.000000</td>\n",
                            "      <td>8.000000</td>\n",
                            "      <td>8.000000</td>\n",
                            "      <td>8.000000</td>\n",
                            "      <td>8.000000e+00</td>\n",
                            "    </tr>\n",
                            "    <tr>\n",
                            "      <th>k</th>\n",
                            "      <td>9.000000</td>\n",
                            "      <td>3.000000</td>\n",
                            "      <td>5.000000</td>\n",
                            "      <td>7.000000</td>\n",
                            "      <td>2.000000e+00</td>\n",
                            "    </tr>\n",
                            "    <tr>\n",
                            "      <th>Delta</th>\n",
                            "      <td>0.080000</td>\n",
                            "      <td>0.340000</td>\n",
                            "      <td>0.250000</td>\n",
                            "      <td>0.235000</td>\n",
                            "      <td>3.350000e-01</td>\n",
                            "    </tr>\n",
                            "    <tr>\n",
                            "      <th>dropout</th>\n",
                            "      <td>0.200000</td>\n",
                            "      <td>0.250000</td>\n",
                            "      <td>0.050000</td>\n",
                            "      <td>0.100000</td>\n",
                            "      <td>1.000000e-01</td>\n",
                            "    </tr>\n",
                            "    <tr>\n",
                            "      <th>n_params</th>\n",
                            "      <td>195370.000000</td>\n",
                            "      <td>302122.000000</td>\n",
                            "      <td>386986.000000</td>\n",
                            "      <td>804394.000000</td>\n",
                            "      <td>1.475554e+06</td>\n",
                            "    </tr>\n",
                            "    <tr>\n",
                            "      <th>test_ref</th>\n",
                            "      <td>63.920000</td>\n",
                            "      <td>63.810000</td>\n",
                            "      <td>58.280000</td>\n",
                            "      <td>52.990000</td>\n",
                            "      <td>4.178000e+01</td>\n",
                            "    </tr>\n",
                            "  </tbody>\n",
                            "</table>\n",
                            "</div>"
                        ]
                    },
                    "metadata": {},
                    "execution_count": 17
                }
            ],
            "metadata": {}
        }
    ],
    "metadata": {
        "orig_nbformat": 4,
        "language_info": {
            "name": "python",
            "version": "3.9.5",
            "mimetype": "text/x-python",
            "codemirror_mode": {
                "name": "ipython",
                "version": 3
            },
            "pygments_lexer": "ipython3",
            "nbconvert_exporter": "python",
            "file_extension": ".py"
        },
        "kernelspec": {
            "name": "python3",
            "display_name": "Python 3.9.5 64-bit ('torch': conda)"
        },
        "interpreter": {
            "hash": "1e37435746eaed37b8291da79a5f30415bfbec00a11726e7f2882afc7a4b1366"
        }
    },
    "nbformat": 4,
    "nbformat_minor": 2
}